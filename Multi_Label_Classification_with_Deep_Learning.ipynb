{
  "cells": [
    {
      "cell_type": "markdown",
      "metadata": {
        "id": "view-in-github",
        "colab_type": "text"
      },
      "source": [
        "<a href=\"https://colab.research.google.com/github/anilkrp/TensorFlow-Tutorial/blob/main/Multi_Label_Classification_with_Deep_Learning.ipynb\" target=\"_parent\"><img src=\"https://colab.research.google.com/assets/colab-badge.svg\" alt=\"Open In Colab\"/></a>"
      ]
    },
    {
      "cell_type": "code",
      "execution_count": 4,
      "metadata": {
        "id": "62CkfTS48QzJ"
      },
      "outputs": [],
      "source": [
        "# mlp for multi-label classification\n",
        "from numpy import mean\n",
        "from numpy import std\n",
        "from sklearn.datasets import make_multilabel_classification\n",
        "from sklearn.model_selection import RepeatedKFold\n",
        "from keras.models import Sequential\n",
        "from keras.layers import Dense\n",
        "from sklearn.metrics import accuracy_score"
      ]
    },
    {
      "cell_type": "code",
      "execution_count": 5,
      "metadata": {
        "id": "U0WqkcZ18QzK"
      },
      "outputs": [],
      "source": [
        "# get the dataset\n",
        "def get_dataset():\n",
        "    X, y = make_multilabel_classification(n_samples=1000, n_features=10, n_classes=3, n_labels=2, random_state=1)\n",
        "    return X, y"
      ]
    },
    {
      "cell_type": "code",
      "execution_count": 6,
      "metadata": {
        "id": "8NRSJCvC8QzL"
      },
      "outputs": [],
      "source": [
        "# get the model\n",
        "def get_model(n_inputs, n_outputs):\n",
        "    model = Sequential()\n",
        "    model.add(Dense(20, input_dim=n_inputs,kernel_initializer='he_uniform', activation='relu'))\n",
        "    model.add(Dense(n_outputs, activation='sigmoid'))\n",
        "    model.compile(loss='binary_crossentropy', optimizer='adam')\n",
        "    return model"
      ]
    },
    {
      "cell_type": "code",
      "execution_count": 7,
      "metadata": {
        "id": "KvZP10Ar8QzL"
      },
      "outputs": [],
      "source": [
        "# evaluate the model using repeated k-fold cross validation\n",
        "\n",
        "def evaluate_model(X,y):\n",
        "    results = []\n",
        "    n_inputs, n_outputs = X.shape[1], y.shape[1]\n",
        "    cv = RepeatedKFold(n_splits=10, n_repeats=3, random_state=1)\n",
        "\n",
        "    for train_index, test_index in cv.split(X):\n",
        "        X_train, X_test = X[train_index], X[test_index]\n",
        "        y_train, y_test = y[train_index], y[test_index]\n",
        "\n",
        "        model = get_model(n_inputs, n_outputs)\n",
        "        model.fit(X_train, y_train, verbose=0, epochs=100)\n",
        "        yhat = model.predict(X_test)\n",
        "        yhat = yhat.round()\n",
        "\n",
        "        acc = accuracy_score(y_test, yhat)\n",
        "        print('>%.3f' % acc)\n",
        "        results.append(acc)\n",
        "    return results"
      ]
    },
    {
      "cell_type": "code",
      "source": [
        "import warnings\n",
        "warnings.filterwarnings('ignore')"
      ],
      "metadata": {
        "id": "X04DBh0L8y4M"
      },
      "execution_count": 9,
      "outputs": []
    },
    {
      "cell_type": "code",
      "execution_count": 10,
      "metadata": {
        "colab": {
          "base_uri": "https://localhost:8080/"
        },
        "id": "SxO1_7L98QzL",
        "outputId": "43120d6c-b524-441c-f2f3-e76bf9cb4503"
      },
      "outputs": [
        {
          "output_type": "stream",
          "name": "stdout",
          "text": [
            "4/4 [==============================] - 0s 4ms/step\n",
            ">0.840\n",
            "4/4 [==============================] - 0s 3ms/step\n",
            ">0.820\n",
            "4/4 [==============================] - 0s 5ms/step\n",
            ">0.840\n",
            "4/4 [==============================] - 0s 3ms/step\n",
            ">0.820\n",
            "4/4 [==============================] - 0s 5ms/step\n",
            ">0.850\n",
            "4/4 [==============================] - 0s 3ms/step\n",
            ">0.790\n",
            "4/4 [==============================] - 0s 4ms/step\n",
            ">0.780\n",
            "4/4 [==============================] - 0s 3ms/step\n",
            ">0.810\n",
            "4/4 [==============================] - 0s 5ms/step\n",
            ">0.820\n",
            "4/4 [==============================] - 0s 3ms/step\n",
            ">0.760\n",
            "4/4 [==============================] - 0s 4ms/step\n",
            ">0.850\n",
            "4/4 [==============================] - 0s 3ms/step\n",
            ">0.750\n",
            "4/4 [==============================] - 0s 3ms/step\n",
            ">0.840\n",
            "4/4 [==============================] - 0s 3ms/step\n",
            ">0.810\n",
            "4/4 [==============================] - 0s 3ms/step\n",
            ">0.730\n",
            "4/4 [==============================] - 0s 3ms/step\n",
            ">0.820\n",
            "4/4 [==============================] - 0s 3ms/step\n",
            ">0.770\n",
            "4/4 [==============================] - 0s 3ms/step\n",
            ">0.840\n",
            "4/4 [==============================] - 0s 4ms/step\n",
            ">0.830\n",
            "4/4 [==============================] - 0s 3ms/step\n",
            ">0.860\n",
            "4/4 [==============================] - 0s 3ms/step\n",
            ">0.780\n",
            "4/4 [==============================] - 0s 3ms/step\n",
            ">0.860\n",
            "4/4 [==============================] - 0s 3ms/step\n",
            ">0.780\n",
            "4/4 [==============================] - 0s 3ms/step\n",
            ">0.840\n",
            "4/4 [==============================] - 0s 3ms/step\n",
            ">0.830\n",
            "4/4 [==============================] - 0s 3ms/step\n",
            ">0.740\n",
            "4/4 [==============================] - 0s 3ms/step\n",
            ">0.830\n",
            "4/4 [==============================] - 0s 3ms/step\n",
            ">0.830\n",
            "4/4 [==============================] - 0s 3ms/step\n",
            ">0.790\n",
            "4/4 [==============================] - 0s 5ms/step\n",
            ">0.850\n",
            "Accuracy: 0.812 (0.036)\n"
          ]
        }
      ],
      "source": [
        "X, y = get_dataset()\n",
        "# evaluate model\n",
        "results = evaluate_model(X,y)\n",
        "# summarize the performance\n",
        "print('Accuracy: %.3f (%.3f)' % (mean(results), std(results)))"
      ]
    },
    {
      "cell_type": "code",
      "execution_count": null,
      "metadata": {
        "id": "bwOPlW_a8QzM"
      },
      "outputs": [],
      "source": []
    }
  ],
  "metadata": {
    "colab": {
      "provenance": [],
      "include_colab_link": true
    },
    "kernelspec": {
      "display_name": "Python 3",
      "name": "python3"
    },
    "language_info": {
      "codemirror_mode": {
        "name": "ipython",
        "version": 3
      },
      "file_extension": ".py",
      "mimetype": "text/x-python",
      "name": "python",
      "nbconvert_exporter": "python",
      "pygments_lexer": "ipython3",
      "version": "3.12.2"
    }
  },
  "nbformat": 4,
  "nbformat_minor": 0
}